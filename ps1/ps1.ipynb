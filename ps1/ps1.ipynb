{
 "cells": [
  {
   "cell_type": "markdown",
   "id": "4fcdbc3e",
   "metadata": {
    "deletable": false,
    "nbgrader": {
     "cell_type": "markdown",
     "checksum": "0b1dcb9031019b2d3b8d5c44c50bf7c3",
     "grade": true,
     "grade_id": "cell-1fad288cbe7a1652",
     "locked": false,
     "points": 0,
     "schema_version": 3,
     "solution": true,
     "task": false
    }
   },
   "source": [
    "\n",
    "\n",
    "Group nr:  \n",
    "\n",
    "Name 1 and CID: name surname (CID)\n",
    "\n",
    "Name 2 and CID: name surname (CID)"
   ]
  },
  {
   "cell_type": "code",
   "execution_count": null,
   "id": "5cc94499",
   "metadata": {
    "deletable": false,
    "editable": false,
    "nbgrader": {
     "cell_type": "code",
     "checksum": "36c183c6d07da2abcb5b2ec1ecf5b876",
     "grade": false,
     "grade_id": "cell-77a6b5001229b794",
     "locked": true,
     "schema_version": 3,
     "solution": false,
     "task": false
    }
   },
   "outputs": [],
   "source": [
    "import numpy as np\n",
    "import pygame\n",
    "from IPython.display import Image\n",
    "from BalanceRobot import BalanceRobot"
   ]
  },
  {
   "cell_type": "markdown",
   "id": "f967690b-3283-450c-93af-85b0929166e6",
   "metadata": {
    "deletable": false,
    "editable": false,
    "nbgrader": {
     "cell_type": "markdown",
     "checksum": "6f64b5f7757d3a034809a08549812051",
     "grade": false,
     "grade_id": "cell-cf1758871d51231a",
     "locked": true,
     "schema_version": 3,
     "solution": false,
     "task": false
    }
   },
   "source": [
    "## Introduction to Jupyter Notebook\n",
    "\n",
    "Jupyter Notebook is a web application that allows you to write code, text and equations in one file. Each code cell can be run individually, but often depend on variables defined in cells above it. This means when you first open the file you will need to run the code cells starting from the top.\n",
    "\n",
    "The text boxes are using Markdown format and to write the equations it uses LaTex format which can be initialized with \\\\$ on each side of the equation, e.g. $ax + b = c$. To edit a text box you double-click them and then to get back the normal text you can run the text box. To run a cell either use the play button on the top or ctrl enter. \n",
    "\n"
   ]
  },
  {
   "cell_type": "markdown",
   "id": "8d0fc495",
   "metadata": {
    "deletable": false,
    "editable": false,
    "nbgrader": {
     "cell_type": "markdown",
     "checksum": "10e68ed2f34b79eb4ad8450826e602b3",
     "grade": false,
     "grade_id": "cell-97eb5d17798219e0",
     "locked": true,
     "schema_version": 3,
     "solution": false,
     "task": false
    }
   },
   "source": [
    "## Balance robot\n",
    "\n",
    "In this assignment, we will perform parameter estimation on a balancing robot. First, we will show how the equations of motion can be derived, some of the parameters in these equations will be unknown to us and linear regression will be used to estimate them. The linear regression method requires data to be collected, which will be collected while the robot is balancing with a control algorithm. Below we can see a drawing of the robot."
   ]
  },
  {
   "cell_type": "markdown",
   "id": "19f411e7",
   "metadata": {
    "deletable": false,
    "editable": false,
    "nbgrader": {
     "cell_type": "markdown",
     "checksum": "9784d4b8a280a46012c89949d05b0a78",
     "grade": false,
     "grade_id": "cell-b12f08bf9184d784",
     "locked": true,
     "schema_version": 3,
     "solution": false,
     "task": false
    }
   },
   "source": [
    "\n",
    "<img src=\"img/BallanceRobot.png\" width=\"300\"/>"
   ]
  },
  {
   "cell_type": "markdown",
   "id": "f4f01739",
   "metadata": {
    "deletable": false,
    "editable": false,
    "nbgrader": {
     "cell_type": "markdown",
     "checksum": "56d118daa55972a1e1ff3156101d8061",
     "grade": false,
     "grade_id": "cell-b3467d8f3ea787b6",
     "locked": true,
     "schema_version": 3,
     "solution": false,
     "task": false
    }
   },
   "source": [
    "| Parameter | Description | To be estimated |\n",
    "| --- | --- | --- |\n",
    "| $m_1$ | Mass of main body [kg]| Yes |\n",
    "| $l$ | Distance from wheel hub to $m_1$ [m] | Yes |\n",
    "| $I_1$ | Moment of inertia for main body [kg $\\textrm{m}^2$]| Yes |\n",
    "| $m_2$ | Mass of wheels [kg]| No |\n",
    "| $r$ | Radious of wheels [m]| No |\n",
    "| $I_2$ | Moment of inertia for of wheels [kg $\\textrm{m}^2$]| No |\n",
    "\n",
    "| State | Description | \n",
    "| --- | --- |\n",
    "| $\\alpha_1$ | Angle of main body [rad]| \n",
    "| $\\alpha_2$ | Angle of wheel from position 0 [rad]|\n",
    "| $x_1$ | Position of $m_1$ in x-axis for main body [m]|\n",
    "| $y_1$ | Position of $m_1$ in y-axis for main body [m]|\n",
    "| $x_2$ | Position of $m_2$ in x-axis for wheel [m]|\n",
    "\n"
   ]
  },
  {
   "cell_type": "markdown",
   "id": "f63fc6ac",
   "metadata": {
    "deletable": false,
    "editable": false,
    "nbgrader": {
     "cell_type": "markdown",
     "checksum": "33a6177a2e7f9a1b03979ef6a70b906d",
     "grade": false,
     "grade_id": "cell-2929926407d54e62",
     "locked": true,
     "schema_version": 3,
     "solution": false,
     "task": false
    }
   },
   "source": [
    "## Equations of motion\n",
    "\n",
    "Here we show one way to calculate the equations of motion for the system. To do this we will use the Euler-Lagrange method which builds on finding the stationary solution between the kinetic and potential energy of the system. "
   ]
  },
  {
   "cell_type": "markdown",
   "id": "4395c88b",
   "metadata": {
    "deletable": false,
    "editable": false,
    "nbgrader": {
     "cell_type": "markdown",
     "checksum": "b28fbcad7c8c0a130da1d014e2a92fb6",
     "grade": false,
     "grade_id": "cell-586cc7eb1686fffa",
     "locked": true,
     "schema_version": 3,
     "solution": false,
     "task": false
    }
   },
   "source": [
    "We start with setting up the kinematic relationships. We define $(x_1, y_1)$ to be the position for the centre of mass of the main body and $x_2$ the position of the wheels, both with respect to the coordinate frame. The kinematics equations for the system then become:\n",
    "\n",
    "$x_2 = - \\alpha_2 r$\n",
    "\n",
    "$x_1 = - \\alpha_2 r - l sin(\\alpha_1)$\n",
    "\n",
    "$y_1 = r + l cos(\\alpha_1)$\n",
    "\n",
    "$\\dot{x}_1 = - r \\dot{\\alpha}_2 - l cos(\\alpha_1) \\dot{\\alpha_1}$\n",
    "\n",
    "$\\dot{y}_1 = -l sin(\\alpha_1) \\dot{\\alpha}_1$\n",
    "\n",
    "$\\dot{x}_2 = - r \\dot{\\alpha}_2 $ \n",
    "\n",
    "Potential Energy for the system:\n",
    "\n",
    "$V = l cos(\\alpha_1)m_1g$\n",
    "\n",
    "Kinematic energy:\n",
    "\n",
    "$T = \\frac{1}{2} m_1 (\\dot{x}^2_1 + \\dot{y}^2_1) + \\frac{1}{2} m_2 \\dot{x}^2_2 + \\frac{1}{2} I_1 \\dot{\\alpha}^2_1 + \\frac{1}{2} I_2 \\dot{\\alpha}_2^2$\n",
    "\n",
    "From these the equations of motion for the balance robot can be calculated, here we use the Euler Lagrange method. First the Lagrangian is calculated by: \n",
    "\n",
    "$L = T - V$\n",
    "\n",
    "and becomes:\n",
    "\n",
    "$L = \\frac{1}{2} m_1 (r^2 \\dot{\\alpha}^2_2 + 2 r \\dot{\\alpha}_2 l cos(\\alpha_1) \\dot{\\alpha_1} + l^2  \\dot{\\alpha}_1^2) +\n",
    "\\frac{1}{2} m_2 r^2 \\dot{\\alpha}_2^2 + \\frac{1}{2} I_1 \\dot{\\alpha}^2_1 + \\frac{1}{2} I_2 \\dot{\\alpha}_2^2 -l cos(\\alpha_1)m_1g$"
   ]
  },
  {
   "cell_type": "markdown",
   "id": "b9be77c7",
   "metadata": {
    "deletable": false,
    "editable": false,
    "nbgrader": {
     "cell_type": "markdown",
     "checksum": "266d93af52c934fb657c89b8cd11310c",
     "grade": false,
     "grade_id": "cell-7e23cbef14d36ce1",
     "locked": true,
     "schema_version": 3,
     "solution": false,
     "task": false
    }
   },
   "source": [
    "Euler Lagrange equation is defined by: \n",
    "\n",
    "$\\frac{d}{dt}(\\frac{\\partial L }{\\partial \\dot{q}_i}) - \\frac{\\partial L }{\\partial q_i} = Q_i$\n",
    "\n",
    "Where $q_1 = \\alpha_1$, $q_2 = \\alpha_2$, and $Q_i$ represent external force, in our case, the external force is the torque $M$ generated by the motors between the main body and the wheels. "
   ]
  },
  {
   "cell_type": "markdown",
   "id": "679c5b56",
   "metadata": {
    "deletable": false,
    "editable": false,
    "nbgrader": {
     "cell_type": "markdown",
     "checksum": "6bde795e974660f39d2e86a6bcbf2520",
     "grade": false,
     "grade_id": "cell-3778d4dc026776e0",
     "locked": true,
     "schema_version": 3,
     "solution": false,
     "task": false
    }
   },
   "source": [
    "The equations of motion after simplification becomes:\n",
    "\n",
    "$M = m_1 r \\ddot{\\alpha}_2 l cos(\\alpha_1) + m_1 l^2 \\ddot{\\alpha}_1 + I_1 \\ddot{\\alpha}_1  - lsin(\\alpha_1)m_1g$\n",
    "\n",
    "and\n",
    "\n",
    "$-M =  m_1 r^2 \\ddot{\\alpha}_2 + m_1 rlcos(\\alpha_1) \\ddot{\\alpha}_1 - m_1 rlsin(\\alpha_1)\\dot{\\alpha}_1^2 + m_2 r^2 \\ddot{\\alpha}_2 + I_2 \\ddot{\\alpha}_2$"
   ]
  },
  {
   "cell_type": "markdown",
   "id": "55764bea",
   "metadata": {
    "deletable": false,
    "editable": false,
    "nbgrader": {
     "cell_type": "markdown",
     "checksum": "6e2598fd3841de3509d3f5aa9e8dad30",
     "grade": false,
     "grade_id": "cell-6cc3bcd2ec72233e",
     "locked": true,
     "schema_version": 3,
     "solution": false,
     "task": false
    }
   },
   "source": [
    "## Exersise 1:\n",
    "\n",
    "To perform parameter identification with linear regression the equations need to be reformulated to the form $ \\mathbf{y} = \\mathbf{X}^T \\mathbf{\\theta}$, where $\\mathbf{y}$ is a vector with 2 elements, $\\mathbf{X}$ is a matrix and the vector $\\mathbf{\\theta}$ will be estimated using regression. There are 3 parameters we want to estimate, $m_1$, $l$ and $I_1$, all other parameters can be assumed to be known. Rewrite the two equations of motion to the form $ y = X^T \\theta $ so that $m_1$, $l$ and $I_1$ can be extracted from $\\theta$. \n",
    "\n",
    "Hint: It might not be possible to linearize the equations so that $\\theta$ directly has the parameters $m_1$, $l$, $I_1$ by themselves, i.e. $\\theta = [m_1, l, I_1]^T$, but instead it might contain combinations of the parameters from which we later can calculate the values of $m_1$, $l$, $I_1$. \n"
   ]
  },
  {
   "cell_type": "markdown",
   "id": "eb6300cb",
   "metadata": {
    "deletable": false,
    "nbgrader": {
     "cell_type": "markdown",
     "checksum": "4b29f8eb8e250d2518606845bf97303f",
     "grade": true,
     "grade_id": "cell-7dfd278a10ab2d5e",
     "locked": false,
     "points": 1,
     "schema_version": 3,
     "solution": true,
     "task": false
    }
   },
   "source": [
    "\n",
    "Answer:\n",
    "\n",
    "$\\left[ \\begin{array}{c}\n",
    " \\\\\n",
    "\\end{array} \\right] = \n",
    "\\left[ \\begin{array}{ccc}\n",
    "  &  &  \\\\\n",
    "   &  &   \\end{array} \\right]\n",
    "\\left[ \\begin{array}{c}\n",
    " \\\\\n",
    "  \\\\\n",
    "\\end{array} \\right]$\n"
   ]
  },
  {
   "cell_type": "markdown",
   "id": "c1020225",
   "metadata": {
    "deletable": false,
    "editable": false,
    "nbgrader": {
     "cell_type": "markdown",
     "checksum": "ce36c3df4e44cc31a653acc01eb9a105",
     "grade": false,
     "grade_id": "cell-f51c25b2969700c9",
     "locked": true,
     "schema_version": 3,
     "solution": false,
     "task": false
    }
   },
   "source": [
    "## Simulator\n",
    "\n",
    "For those interested, the equations of motion are not only interesting for parameter identification but can also be used to build a simulator for the system. The equations of motion are rewritten to a form where the state of the robot is easier to integrate.\n",
    "\n",
    "$ \\ddot{\\alpha}_2   = \\frac{-M -m_1 rlcos(\\alpha_1) (M + lm_1gsin(\\alpha_1)) / (m_1 l^2 + I_1) + m_1 rlsin(\\alpha_1)\\dot{\\alpha}_1^2}{(m_1 r^2  - m_1^2 r^2 l^2 cos^2(\\alpha_1)/ (m_1 l^2 + I_1) + m_2 r^2 + I_2)} $\n",
    "\n",
    "$\\ddot{\\alpha}_1  = (M -  m_1 r \\ddot{\\alpha}_2 l cos(\\alpha_1) + lm_1gsin(\\alpha_1)) / (m_1 l^2 + I_1)$\n",
    "\n",
    "From these equations, we can simulate the robot by either integrating accelerations with a fixed time step to get the velocity and positions or we can use a differential solver e.g. runge-kutta 45.  "
   ]
  },
  {
   "cell_type": "markdown",
   "id": "c36fd1a6-cc55-47ac-bf4f-a3792642e313",
   "metadata": {
    "deletable": false,
    "editable": false,
    "nbgrader": {
     "cell_type": "markdown",
     "checksum": "653bfc0a2e13aca9b15989162d713371",
     "grade": false,
     "grade_id": "cell-7d5d0e59ac5f88c4",
     "locked": true,
     "schema_version": 3,
     "solution": false,
     "task": false
    }
   },
   "source": [
    "## Controller\n",
    "The robot is essentially an inverted pendilum on wheels, without a controller it will fall. The controller which can be seen below keeps the robot upright and moves it towords a referrence position on the x-axis. In the update function, there is a $\\textit{pos_ref}$ variable that determines the reference signal for the controller, and will later be modified.  "
   ]
  },
  {
   "cell_type": "markdown",
   "id": "4b968be9-ffc3-40ea-82d5-32b6845d6cb3",
   "metadata": {
    "deletable": false,
    "editable": false,
    "nbgrader": {
     "cell_type": "markdown",
     "checksum": "bba7d40c6881d12e12f4449e3b025c73",
     "grade": false,
     "grade_id": "cell-3d8502be777a6564",
     "locked": true,
     "schema_version": 3,
     "solution": false,
     "task": false
    }
   },
   "source": [
    "<img src=\"img/Controller.png\" width=\"500\"/>"
   ]
  },
  {
   "cell_type": "code",
   "execution_count": null,
   "id": "53f2be83",
   "metadata": {
    "deletable": false,
    "nbgrader": {
     "cell_type": "code",
     "checksum": "f8b7d723a3e28fef1543dc01dd7d5672",
     "grade": true,
     "grade_id": "cell-4e008882c930b18b",
     "locked": false,
     "points": 0,
     "schema_version": 3,
     "solution": true,
     "task": false
    }
   },
   "outputs": [],
   "source": [
    "class Controller(object):\n",
    "    def __init__(self, dt, init_states):\n",
    "        self.dt = dt\n",
    "        # controller parameter for position controller\n",
    "        self.K_pos = 3\n",
    "        self.D_pos = 0.5\n",
    "        # controller parameter for angle controller\n",
    "        self.K_ang = 10\n",
    "        self.I_ang = 1\n",
    "        self.D_ang = 1\n",
    "        # limit the maximum allowed reference angle\n",
    "        self.max_angle = 0.8\n",
    "        # variables for the integrator in the PID controller\n",
    "        self.angle_int = 0\n",
    "    \n",
    "    def update(self, t, states): \n",
    "        # The update function will be called on every timestep and return the torque for the motors. \n",
    "        \n",
    "        # The position reference to follow\n",
    "        # ----------------------------------------------------------------\n",
    "        pos_ref =  0.2*np.sin(t*2)\n",
    "        # ----------------------------------------------------------------\n",
    "        \n",
    "        # PD controller for position\n",
    "        err = self.K_pos*(pos_ref - states['pos']) - self.D_pos * states['vel']\n",
    "        # The error is used as a reference angle, with upper and lower bounds. \n",
    "        ref_ang = -np.clip(err, -self.max_angle, self.max_angle)\n",
    "        self.angle_int += self.dt * (ref_ang - states['a1'])\n",
    "        # PID controller for the angle, generates the desired motor torque. \n",
    "        M = self.K_ang*(ref_ang-states['a1']) + self.I_ang*self.angle_int - self.D_ang*states['da1']\n",
    "    \n",
    "        return M\n"
   ]
  },
  {
   "cell_type": "markdown",
   "id": "e08069c5",
   "metadata": {
    "deletable": false,
    "editable": false,
    "nbgrader": {
     "cell_type": "markdown",
     "checksum": "c575600ab3452d9aaa012d457e3f598d",
     "grade": false,
     "grade_id": "cell-69299d868a034041",
     "locked": true,
     "schema_version": 3,
     "solution": false,
     "task": false
    }
   },
   "source": [
    "## Data collection\n",
    "\n",
    "We need to collect data before we can do any regression on the problem. The data is collected when the robot is following a position reference signal. In the code below the data is collected in vectors, e.g. $\\textrm{da1} = [\\dot{\\alpha}_1(t_0), \\dot{\\alpha}_1(t_1), ... , \\dot{\\alpha}_1(t_n)]$ and so on. The known parameters are g, r, m2 and I2. \n",
    "\n",
    "There are two variables you can change:\n",
    "\n",
    "scale_noise: which scales the added noise to the measurements. \n",
    "\n",
    "sim_speed: which allows you to run the simulation faster then realtime. \n"
   ]
  },
  {
   "cell_type": "code",
   "execution_count": null,
   "id": "79049395",
   "metadata": {
    "deletable": false,
    "nbgrader": {
     "cell_type": "code",
     "checksum": "520977d6aa07e000740949f604715469",
     "grade": true,
     "grade_id": "cell-c42a98b9f91b559f",
     "locked": false,
     "points": 0,
     "schema_version": 3,
     "solution": true,
     "task": false
    }
   },
   "outputs": [],
   "source": [
    "## scale_noise, keep at 1 until later, change it later in exercise 7. \n",
    "# It controls the amount of noise applied to the measurements\n",
    "\n",
    "# ----------------------------------------------------------------\n",
    "scale_noise = 1\n",
    "# ----------------------------------------------------------------\n",
    "\n",
    "## Simulation speed, increase it for faster than real-time simulation.\n",
    "sim_speed = 1\n",
    "\n",
    "# number of steps and step size to run the simulation/data collection\n",
    "n_steps = 1000\n",
    "step_time = 1e-2\n",
    "\n",
    "# Initiate the robot\n",
    "robot = BalanceRobot(dt=step_time, sim_speed=sim_speed)\n",
    "try:\n",
    "    # True parameters in the robot.\n",
    "    g = robot.p[\"g\"] # gravity.\n",
    "    r = robot.p[\"r\"] # radius of wheel.\n",
    "    m2 = robot.p[\"m2\"] # mass of wheel.\n",
    "    I2 = robot.p[\"I2\"] # moment of intertia of wheel.\n",
    "\n",
    "    # Initate the controller \n",
    "    state = robot.get_state()\n",
    "    controller = Controller(dt=step_time, init_states=state)\n",
    "\n",
    "    da1 = np.zeros(n_steps)\n",
    "    a1 = np.zeros(n_steps)\n",
    "    da2 = np.zeros(n_steps)\n",
    "    a2 = np.zeros(n_steps)\n",
    "    dda1 = np.zeros(n_steps)\n",
    "    dda2 = np.zeros(n_steps)\n",
    "    M = np.zeros(n_steps)\n",
    "\n",
    "    ## Main loop \n",
    "\n",
    "    for i in range(n_steps):\n",
    "        # calculate time\n",
    "        t = i*step_time\n",
    "        # calculate torque \n",
    "        state = robot.get_state()\n",
    "        M_ = controller.update(t, state)\n",
    "        # step one time step for robot simulation\n",
    "        dda1_, dda2_ = robot.step(torque=M_)\n",
    "\n",
    "        ## Add noice to data\n",
    "        da1[i] = state['da1'] + np.random.normal(0.0, scale_noise*0.02) # d/dt alpha 1\n",
    "        a1[i] = state['a1'] + np.random.normal(0.0, scale_noise*0.03) # alpha 1\n",
    "        da2[i] = state['da2'] + np.random.normal(0.0, scale_noise*0.02) # d/dt alpha 2\n",
    "        a2[i] = state['a2'] + np.random.normal(0.0, scale_noise*0.03) # alpha 2\n",
    "        dda1[i] = dda1_ + np.random.normal(0.0, scale_noise*0.01) # d^2/dt^2 alpha 1\n",
    "        dda2[i] = dda2_ + np.random.normal(0.0, scale_noise*0.01) # d^2/dt^2 alpha 2\n",
    "        M[i] = M_ + np.random.normal(0.0, scale_noise*0.05) # torque \n",
    "\n",
    "    pygame.quit()\n",
    "except:\n",
    "    pygame.quit()\n"
   ]
  },
  {
   "cell_type": "markdown",
   "id": "2e52c22b",
   "metadata": {
    "deletable": false,
    "editable": false,
    "nbgrader": {
     "cell_type": "markdown",
     "checksum": "4d600428ae64501e2dde84b979fbd1d8",
     "grade": false,
     "grade_id": "cell-dafb2ec13e63af7d",
     "locked": true,
     "schema_version": 3,
     "solution": false,
     "task": false
    }
   },
   "source": [
    "## Exercise 2:\n",
    "For the first test, we set the position reference signal to be a sinusoidal shape, e.g. $\\textit{pos_ref} = 0.2 \\sin(2t)$. What would we expect to happen if we used a constant reference signal, i.e. $\\textit{pos_ref} = 0$, instead? Which of the two reference signal would we expect to give better parameter estimation and why? "
   ]
  },
  {
   "cell_type": "markdown",
   "id": "d404cea7",
   "metadata": {
    "deletable": false,
    "nbgrader": {
     "cell_type": "markdown",
     "checksum": "a14e2dc48d758f00afeef0e439f9be5a",
     "grade": true,
     "grade_id": "cell-e2010a3449eeff0d",
     "locked": false,
     "points": 1,
     "schema_version": 3,
     "solution": true,
     "task": false
    }
   },
   "source": [
    "Answer:\n",
    "\n"
   ]
  },
  {
   "cell_type": "markdown",
   "id": "4308452a",
   "metadata": {
    "deletable": false,
    "editable": false,
    "nbgrader": {
     "cell_type": "markdown",
     "checksum": "39a6a78b254c0645b4e347f209e609c2",
     "grade": false,
     "grade_id": "cell-bd88a728048691d3",
     "locked": true,
     "schema_version": 3,
     "solution": false,
     "task": false
    }
   },
   "source": [
    "## Exercise 3: Linear regression \n",
    "\n",
    "Use linear regression to estimate the parameters $m_1$, $l$ and $I_1$. You have access to the vectors da1, da, da2, a2, dda1, dda2 and M, and you can use the variables g, r, m2 and I2.    "
   ]
  },
  {
   "cell_type": "code",
   "execution_count": null,
   "id": "1c010497",
   "metadata": {
    "deletable": false,
    "nbgrader": {
     "cell_type": "code",
     "checksum": "4d560f1336b21bf61daad0b17dbb46d5",
     "grade": false,
     "grade_id": "cell-de4fbd16946a9b3e",
     "locked": false,
     "schema_version": 3,
     "solution": true,
     "task": false
    }
   },
   "outputs": [],
   "source": [
    "#Answer: \n",
    "\n",
    "#est_m1 =\n",
    "#est_l = \n",
    "#est_I1 =\n",
    "\n",
    "print('Estimated mass = ', np.round(est_m1, 3), ' and true  = ', robot.p['m1'])\n",
    "print('Estimated length = ', np.round(est_l, 3), ' and true value = ', robot.p['l'])\n",
    "print('Estimated moment of inertia = ', np.round(est_I1, 3), ' and true value = ', robot.p['I1'])\n",
    "\n"
   ]
  },
  {
   "cell_type": "code",
   "execution_count": null,
   "id": "5937549e",
   "metadata": {
    "deletable": false,
    "editable": false,
    "nbgrader": {
     "cell_type": "code",
     "checksum": "12d1fc536527db4f190154718e20fbdc",
     "grade": true,
     "grade_id": "cell-82dfd2b89a20d09d",
     "locked": true,
     "points": 1,
     "schema_version": 3,
     "solution": false,
     "task": false
    }
   },
   "outputs": [],
   "source": []
  },
  {
   "cell_type": "markdown",
   "id": "42f72e82",
   "metadata": {
    "deletable": false,
    "editable": false,
    "nbgrader": {
     "cell_type": "markdown",
     "checksum": "bfe5e161c535f0b508c3a74b2067440f",
     "grade": false,
     "grade_id": "cell-e449dd3a384fe8c8",
     "locked": true,
     "schema_version": 3,
     "solution": false,
     "task": false
    }
   },
   "source": [
    "## Exercise 4: Calculate the cost function \n",
    "\n",
    "When solving the linear regression problem we minimize a cost function $J(\\theta) = \\frac{1}{2 n} \\sum_{i=1}^n \\varepsilon_i^2$. Calculate the value of the cost function on the saved data with the parameters estimated. \n",
    "\n",
    "Hint: n = n_steps."
   ]
  },
  {
   "cell_type": "code",
   "execution_count": null,
   "id": "910c7320",
   "metadata": {
    "deletable": false,
    "nbgrader": {
     "cell_type": "code",
     "checksum": "b3ee41cef849be430a097bfd5775d3b6",
     "grade": false,
     "grade_id": "cell-e127486213fb7576",
     "locked": false,
     "schema_version": 3,
     "solution": true,
     "task": false
    }
   },
   "outputs": [],
   "source": [
    "#Answer: \n",
    "\n",
    "# cost_value = \n",
    "\n",
    "print('cost_value', cost_value)"
   ]
  },
  {
   "cell_type": "code",
   "execution_count": null,
   "id": "1bf484bd",
   "metadata": {
    "deletable": false,
    "editable": false,
    "nbgrader": {
     "cell_type": "code",
     "checksum": "998f6d56a15af637152103765c9da414",
     "grade": true,
     "grade_id": "cell-5964baeced031ca7",
     "locked": true,
     "points": 1,
     "schema_version": 3,
     "solution": false,
     "task": false
    }
   },
   "outputs": [],
   "source": []
  },
  {
   "cell_type": "markdown",
   "id": "28f26bd4",
   "metadata": {
    "deletable": false,
    "editable": false,
    "nbgrader": {
     "cell_type": "markdown",
     "checksum": "d0de9baace3b234360b6f62a8dd71915",
     "grade": false,
     "grade_id": "cell-a41f216351b18e46",
     "locked": true,
     "schema_version": 3,
     "solution": false,
     "task": false
    }
   },
   "source": [
    "## Exercise 5: Reference signal\n",
    "\n",
    "Try to change the position reference signal in the controller, try a few different ones and report the identified parameters and loss value below together with the function used. You only need to change pos_ref in the update function in the controller. \n",
    "\n",
    "Hint: Try more complex functions by stacking sinusoidal, e.g. $\\textit{pos_ref} = 0.2sin(2t) + 0.03cos(7t)$.\n"
   ]
  },
  {
   "cell_type": "markdown",
   "id": "dbe1b73d",
   "metadata": {
    "deletable": false,
    "nbgrader": {
     "cell_type": "markdown",
     "checksum": "2e8e45bf159fbfb3701419c7268f0c19",
     "grade": true,
     "grade_id": "cell-6fab05ba80dbc559",
     "locked": false,
     "points": 1,
     "schema_version": 3,
     "solution": true,
     "task": false
    }
   },
   "source": [
    "Answer:\n",
    "\n",
    "| ref signal | cost function value | $m_1$ | l| $I_1$ |\n",
    "| --- | --- | --- | --- | --- |\n",
    "| 0 |  |  |  |  | \n",
    "| 0.2*np.sin(t*2) |  |  | |  | \n",
    "|  |  | | |  | \n",
    "| |  | | |  | "
   ]
  },
  {
   "cell_type": "markdown",
   "id": "58b5bb13",
   "metadata": {
    "deletable": false,
    "editable": false,
    "nbgrader": {
     "cell_type": "markdown",
     "checksum": "c4368b063affa6c7ca2aa0b182767066",
     "grade": false,
     "grade_id": "cell-d7cb19d591af7c90",
     "locked": true,
     "schema_version": 3,
     "solution": false,
     "task": false
    }
   },
   "source": [
    "## Exercise 6: Analyse cost function and reference signals. \n",
    "\n",
    "1. How do more complex reference signals affect parameter estimation?\n",
    "2. Does the cost function value improve with better-identified parameters, why/why not?\n",
    "3. Could you keep making the reference signal more and more complex for better estimation or is there a limit, why?\n"
   ]
  },
  {
   "cell_type": "markdown",
   "id": "e6f8d3ac",
   "metadata": {
    "deletable": false,
    "nbgrader": {
     "cell_type": "markdown",
     "checksum": "0d1d9c091ee4568aa3c19bc2b6874d79",
     "grade": true,
     "grade_id": "cell-865a37da81c84c43",
     "locked": false,
     "points": 1,
     "schema_version": 3,
     "solution": true,
     "task": false
    }
   },
   "source": [
    "Answer:\n",
    "\n"
   ]
  },
  {
   "cell_type": "markdown",
   "id": "ce1f4dbf",
   "metadata": {
    "deletable": false,
    "editable": false,
    "nbgrader": {
     "cell_type": "markdown",
     "checksum": "435af20647bf45ab321ffe507b0999f9",
     "grade": false,
     "grade_id": "cell-806af6fd0f12c346",
     "locked": true,
     "schema_version": 3,
     "solution": false,
     "task": false
    }
   },
   "source": [
    " ## Exercise 7:  Noise"
   ]
  },
  {
   "cell_type": "markdown",
   "id": "357e2eac",
   "metadata": {
    "deletable": false,
    "editable": false,
    "nbgrader": {
     "cell_type": "markdown",
     "checksum": "cae5550be9d029174d7e9318f2b2980e",
     "grade": false,
     "grade_id": "cell-a003cd784957e7b9",
     "locked": true,
     "schema_version": 3,
     "solution": false,
     "task": false
    }
   },
   "source": [
    "Explore how the noise levels added before the data collection affects the identification results and also the value of the cost function. Why is it that the cost function reacts differently compared to exercise 5? Use the position reference signal with the best parameter identification from exercise 5."
   ]
  },
  {
   "cell_type": "markdown",
   "id": "7964538f",
   "metadata": {
    "deletable": false,
    "nbgrader": {
     "cell_type": "markdown",
     "checksum": "0a401b228ea0990eaf6f0d6258163cf1",
     "grade": true,
     "grade_id": "cell-a786d39416b80c66",
     "locked": false,
     "points": 1,
     "schema_version": 3,
     "solution": true,
     "task": false
    }
   },
   "source": [
    "Answer:\n",
    "\n",
    "\n",
    "$\\textit{pos_ref} = $\n",
    "\n",
    "| scale_noise | cost function value | $m_1$ | l| $I_1$ |\n",
    "| --- | --- | --- | --- | --- |\n",
    "| 0.1 |  | | |  | \n",
    "| 0.5 | |  | |  | \n",
    "| 1 |  |  | |  | \n",
    "| 2 |  | |  | | \n",
    "| 10 |  |  |  | | \n"
   ]
  },
  {
   "cell_type": "code",
   "execution_count": null,
   "id": "7a4953c6",
   "metadata": {},
   "outputs": [],
   "source": []
  }
 ],
 "metadata": {
  "kernelspec": {
   "display_name": "Python 3 (ipykernel)",
   "language": "python",
   "name": "python3"
  },
  "language_info": {
   "codemirror_mode": {
    "name": "ipython",
    "version": 3
   },
   "file_extension": ".py",
   "mimetype": "text/x-python",
   "name": "python",
   "nbconvert_exporter": "python",
   "pygments_lexer": "ipython3",
   "version": "3.10.12"
  }
 },
 "nbformat": 4,
 "nbformat_minor": 5
}
